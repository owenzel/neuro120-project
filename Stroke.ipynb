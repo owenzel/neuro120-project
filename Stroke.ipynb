{
 "cells": [
  {
   "cell_type": "code",
   "execution_count": 1,
   "id": "1a5f8a3f-3002-4eff-b343-8b34e19f84c3",
   "metadata": {
    "tags": []
   },
   "outputs": [],
   "source": [
    "import anndata\n",
    "import scanpy as sc\n",
    "import pandas as pd\n",
    "import numpy as np\n",
    "\n",
    "#also need: igraph, leidenalg"
   ]
  },
  {
   "cell_type": "markdown",
   "id": "74fe64fa-3683-43f2-956b-058f606c64cd",
   "metadata": {},
   "source": [
    "# Load in Data\n",
    "We are using single-cell RNA sequencing (scRNA-seq) data. scRNA-seq is a popular technique for measuring gene expression at the single-cell level.\n",
    "\n",
    "**The Technique:**\n",
    "- Individual cells are isolated and captured\n",
    "- RNA is extracted from each cell, converted to complementary DNA (cDNA), and amplified to generate squencing libraries\n",
    "- the cDNA libraries are sequenced to generate the transcriptome of each cell - which genes are expressed at at which levels\n",
    "\n",
    "**The Data:**\n",
    "- Gene expression matrix: the expression levels of genes in individual cells. Each row is a gene and each column is a cell.\n",
    "- Barcodes: each cell is associated with a unique barcode that allows researchers to track expression profiles back to specific cells\n",
    "- Genes: Information about genes detected in the cells (names, identifiers, expression levels)"
   ]
  },
  {
   "cell_type": "markdown",
   "id": "fbfc05bf-9cb4-4333-89e1-4f1783c7ed15",
   "metadata": {},
   "source": [
    "## [Stroke Data](https://www.ncbi.nlm.nih.gov/geo/query/acc.cgi?acc=GSE174574)"
   ]
  },
  {
   "cell_type": "code",
   "execution_count": 2,
   "id": "70f619cf-6df9-4114-94cf-0162a63f4802",
   "metadata": {},
   "outputs": [],
   "source": [
    "# Load in stroke data sample 1: MCA01\n",
    "\n",
    "# Load the data into an AnnData object\n",
    "adata_stroke1 = anndata.read_mtx(\"stroke_data/GSM5319990_MCAO1_matrix.mtx.gz\")\n",
    "\n",
    "# Read the barcode and gene files\n",
    "barcodes_stroke1 = pd.read_csv(\"stroke_data/GSM5319990_MCAO1_barcodes.tsv.gz\", header=None)\n",
    "genes_stroke1 = pd.read_csv(\"stroke_data/GSM5319990_MCAO1_genes.tsv.gz\", header=None)"
   ]
  },
  {
   "cell_type": "code",
   "execution_count": 3,
   "id": "2d09ebff-c8fc-4f2e-973b-6e742b557724",
   "metadata": {},
   "outputs": [],
   "source": [
    "# Set the barcodes and genes as row and column names for MCA01\n",
    "adata_stroke1.obs_names = genes_stroke1[0]\n",
    "adata_stroke1.var_names = barcodes_stroke1[0]"
   ]
  },
  {
   "cell_type": "code",
   "execution_count": 4,
   "id": "bf23472e-67eb-4d22-ab98-b3fb526cae02",
   "metadata": {},
   "outputs": [],
   "source": [
    "# Load in stroke control data sample 1: sham1\n",
    "\n",
    "# Load the data into an AnnData object\n",
    "adata_sham1 = anndata.read_mtx(\"stroke_data/GSM5319987_sham1_matrix.mtx.gz\")\n",
    "\n",
    "# Read the barcode and gene files\n",
    "barcodes_sham1 = pd.read_csv(\"stroke_data/GSM5319987_sham1_barcodes.tsv.gz\", header=None)\n",
    "genes_sham1 = pd.read_csv(\"stroke_data/GSM5319987_sham1_genes.tsv.gz\", header=None)"
   ]
  },
  {
   "cell_type": "code",
   "execution_count": 5,
   "id": "e4cc6c6b-9f63-4f9d-b613-7ed79a1d65eb",
   "metadata": {},
   "outputs": [],
   "source": [
    "# Set the barcodes and genes as row and column names for sham1\n",
    "adata_sham1.obs_names = genes_sham1[0]\n",
    "adata_sham1.var_names = barcodes_sham1[0]"
   ]
  },
  {
   "cell_type": "markdown",
   "id": "0b263ea9-284f-4ba5-9165-73fc793363b5",
   "metadata": {},
   "source": [
    "## [Alzheimer's Data](https://bmbls.bmi.osumc.edu/scread/)"
   ]
  },
  {
   "cell_type": "markdown",
   "id": "52025b79-ebb1-481e-8b1e-2d35db767613",
   "metadata": {},
   "source": [
    "# Stroke vs. Control"
   ]
  },
  {
   "cell_type": "markdown",
   "id": "be3ca1bc-0825-45c9-8f88-6c1b55dd49b5",
   "metadata": {},
   "source": [
    "## Pre-processing: normalization, scaling, dimensionality reduction\n",
    "- Normalize the gene expression counts across cells to ensure that differences in expression levels between cells are due to biological factors, not technical factors, like sequencing depth\n",
    "- Apply a logarithmic transformation to the data, which is common in scRNA-seq analysis to make the data more normally distributed\n",
    "- Scale the data to ensure each gene's expression values have a mean of 0 and standard deviation of 1. This is important for PCA and clustering because it prevents genes with larger expression values from dominating the analysis."
   ]
  },
  {
   "cell_type": "code",
   "execution_count": 6,
   "id": "5141d255-37f3-4399-91e2-ceb8f24bcd17",
   "metadata": {},
   "outputs": [
    {
     "name": "stderr",
     "output_type": "stream",
     "text": [
      "/Users/jordan/anaconda3/lib/python3.11/site-packages/scanpy/preprocessing/_normalization.py:233: UserWarning: Some cells have zero counts\n",
      "  warn(UserWarning(\"Some cells have zero counts\"))\n",
      "/Users/jordan/anaconda3/lib/python3.11/site-packages/scanpy/preprocessing/_normalization.py:233: UserWarning: Some cells have zero counts\n",
      "  warn(UserWarning(\"Some cells have zero counts\"))\n"
     ]
    }
   ],
   "source": [
    "# Pre-process the stroke data\n",
    "sc.pp.normalize_total(adata_stroke1, target_sum=1e4) # normalize the total counts\n",
    "sc.pp.log1p(adata_stroke1) # apply a logarithmic transformation\n",
    "sc.pp.scale(adata_stroke1) # scale\n",
    "\n",
    "# Pre-process the control data\n",
    "sc.pp.normalize_total(adata_sham1, target_sum=1e4)\n",
    "sc.pp.log1p(adata_sham1)\n",
    "sc.pp.scale(adata_sham1)"
   ]
  },
  {
   "cell_type": "markdown",
   "id": "941b0851-577e-4581-b9cc-14cb0893c712",
   "metadata": {},
   "source": [
    "## Cell-type Composition Comparison\n",
    "- Perform PCA on the pre-processed data to reduce its dimensionality. Identify the principal components (linear combinations of genes) that capture the most variance in the data\n",
    "- Construct a k-nearest neighbors (kNN) graph, which represents the similarity between cells in the lower-dimensional space, using the Uniform Manifold Approximation and Projection (UMAP) method (a non-linear dimensionality reduction technique that preservs and local and global structure in the data, which is good for high-dimensional scRNA-seq data visualized in 2D)\n",
    "- Apply the Leiden clustering algorithm to partition the cells into clusters based on their connectivity in the graph\n",
    "- Compute and plot the UMAP embeddings, coloring each cell based on its assigned cluster identified by the Leiden algorithm."
   ]
  },
  {
   "cell_type": "code",
   "execution_count": 7,
   "id": "9779e3cf-2c92-41f7-9378-d22116205036",
   "metadata": {},
   "outputs": [
    {
     "name": "stderr",
     "output_type": "stream",
     "text": [
      "/Users/jordan/anaconda3/lib/python3.11/site-packages/scipy/sparse/_index.py:143: SparseEfficiencyWarning: Changing the sparsity structure of a csr_matrix is expensive. lil_matrix is more efficient.\n",
      "  self._set_arrayXarray(i, j, x)\n"
     ]
    },
    {
     "ename": "KeyboardInterrupt",
     "evalue": "",
     "output_type": "error",
     "traceback": [
      "\u001b[0;31m---------------------------------------------------------------------------\u001b[0m",
      "\u001b[0;31mKeyboardInterrupt\u001b[0m                         Traceback (most recent call last)",
      "Cell \u001b[0;32mIn[7], line 8\u001b[0m\n\u001b[1;32m      5\u001b[0m \u001b[38;5;66;03m# sc.tl.leiden(adata_stroke1)\u001b[39;00m\n\u001b[1;32m      6\u001b[0m sc\u001b[38;5;241m.\u001b[39mtl\u001b[38;5;241m.\u001b[39mleiden(adata_stroke1, flavor\u001b[38;5;241m=\u001b[39m\u001b[38;5;124m'\u001b[39m\u001b[38;5;124migraph\u001b[39m\u001b[38;5;124m'\u001b[39m, n_iterations\u001b[38;5;241m=\u001b[39m\u001b[38;5;241m2\u001b[39m) \u001b[38;5;66;03m# apply Leiden alg for clustering\u001b[39;00m\n\u001b[0;32m----> 8\u001b[0m sc\u001b[38;5;241m.\u001b[39mpp\u001b[38;5;241m.\u001b[39mpca(adata_sham1, n_comps\u001b[38;5;241m=\u001b[39m\u001b[38;5;241m50\u001b[39m)\n\u001b[1;32m      9\u001b[0m \u001b[38;5;66;03m# sc.pp.neighbors(adata_sham1)\u001b[39;00m\n\u001b[1;32m     10\u001b[0m sc\u001b[38;5;241m.\u001b[39mpp\u001b[38;5;241m.\u001b[39mneighbors(adata_sham1, method\u001b[38;5;241m=\u001b[39m\u001b[38;5;124m'\u001b[39m\u001b[38;5;124mumap\u001b[39m\u001b[38;5;124m'\u001b[39m)\n",
      "File \u001b[0;32m~/anaconda3/lib/python3.11/site-packages/scanpy/preprocessing/_pca.py:270\u001b[0m, in \u001b[0;36mpca\u001b[0;34m(***failed resolving arguments***)\u001b[0m\n\u001b[1;32m    266\u001b[0m         X \u001b[38;5;241m=\u001b[39m X\u001b[38;5;241m.\u001b[39mtoarray()\n\u001b[1;32m    267\u001b[0m     pca_ \u001b[38;5;241m=\u001b[39m PCA(\n\u001b[1;32m    268\u001b[0m         n_components\u001b[38;5;241m=\u001b[39mn_comps, svd_solver\u001b[38;5;241m=\u001b[39msvd_solver, random_state\u001b[38;5;241m=\u001b[39mrandom_state\n\u001b[1;32m    269\u001b[0m     )\n\u001b[0;32m--> 270\u001b[0m     X_pca \u001b[38;5;241m=\u001b[39m pca_\u001b[38;5;241m.\u001b[39mfit_transform(X)\n\u001b[1;32m    271\u001b[0m \u001b[38;5;28;01melif\u001b[39;00m issparse(X) \u001b[38;5;129;01mand\u001b[39;00m zero_center:\n\u001b[1;32m    272\u001b[0m     \u001b[38;5;28;01mfrom\u001b[39;00m \u001b[38;5;21;01msklearn\u001b[39;00m\u001b[38;5;21;01m.\u001b[39;00m\u001b[38;5;21;01mdecomposition\u001b[39;00m \u001b[38;5;28;01mimport\u001b[39;00m PCA\n",
      "File \u001b[0;32m~/anaconda3/lib/python3.11/site-packages/sklearn/utils/_set_output.py:140\u001b[0m, in \u001b[0;36m_wrap_method_output.<locals>.wrapped\u001b[0;34m(self, X, *args, **kwargs)\u001b[0m\n\u001b[1;32m    138\u001b[0m \u001b[38;5;129m@wraps\u001b[39m(f)\n\u001b[1;32m    139\u001b[0m \u001b[38;5;28;01mdef\u001b[39;00m \u001b[38;5;21mwrapped\u001b[39m(\u001b[38;5;28mself\u001b[39m, X, \u001b[38;5;241m*\u001b[39margs, \u001b[38;5;241m*\u001b[39m\u001b[38;5;241m*\u001b[39mkwargs):\n\u001b[0;32m--> 140\u001b[0m     data_to_wrap \u001b[38;5;241m=\u001b[39m f(\u001b[38;5;28mself\u001b[39m, X, \u001b[38;5;241m*\u001b[39margs, \u001b[38;5;241m*\u001b[39m\u001b[38;5;241m*\u001b[39mkwargs)\n\u001b[1;32m    141\u001b[0m     \u001b[38;5;28;01mif\u001b[39;00m \u001b[38;5;28misinstance\u001b[39m(data_to_wrap, \u001b[38;5;28mtuple\u001b[39m):\n\u001b[1;32m    142\u001b[0m         \u001b[38;5;66;03m# only wrap the first output for cross decomposition\u001b[39;00m\n\u001b[1;32m    143\u001b[0m         return_tuple \u001b[38;5;241m=\u001b[39m (\n\u001b[1;32m    144\u001b[0m             _wrap_data_with_container(method, data_to_wrap[\u001b[38;5;241m0\u001b[39m], X, \u001b[38;5;28mself\u001b[39m),\n\u001b[1;32m    145\u001b[0m             \u001b[38;5;241m*\u001b[39mdata_to_wrap[\u001b[38;5;241m1\u001b[39m:],\n\u001b[1;32m    146\u001b[0m         )\n",
      "File \u001b[0;32m~/anaconda3/lib/python3.11/site-packages/sklearn/base.py:1151\u001b[0m, in \u001b[0;36m_fit_context.<locals>.decorator.<locals>.wrapper\u001b[0;34m(estimator, *args, **kwargs)\u001b[0m\n\u001b[1;32m   1144\u001b[0m     estimator\u001b[38;5;241m.\u001b[39m_validate_params()\n\u001b[1;32m   1146\u001b[0m \u001b[38;5;28;01mwith\u001b[39;00m config_context(\n\u001b[1;32m   1147\u001b[0m     skip_parameter_validation\u001b[38;5;241m=\u001b[39m(\n\u001b[1;32m   1148\u001b[0m         prefer_skip_nested_validation \u001b[38;5;129;01mor\u001b[39;00m global_skip_validation\n\u001b[1;32m   1149\u001b[0m     )\n\u001b[1;32m   1150\u001b[0m ):\n\u001b[0;32m-> 1151\u001b[0m     \u001b[38;5;28;01mreturn\u001b[39;00m fit_method(estimator, \u001b[38;5;241m*\u001b[39margs, \u001b[38;5;241m*\u001b[39m\u001b[38;5;241m*\u001b[39mkwargs)\n",
      "File \u001b[0;32m~/anaconda3/lib/python3.11/site-packages/sklearn/decomposition/_pca.py:460\u001b[0m, in \u001b[0;36mPCA.fit_transform\u001b[0;34m(self, X, y)\u001b[0m\n\u001b[1;32m    437\u001b[0m \u001b[38;5;129m@_fit_context\u001b[39m(prefer_skip_nested_validation\u001b[38;5;241m=\u001b[39m\u001b[38;5;28;01mTrue\u001b[39;00m)\n\u001b[1;32m    438\u001b[0m \u001b[38;5;28;01mdef\u001b[39;00m \u001b[38;5;21mfit_transform\u001b[39m(\u001b[38;5;28mself\u001b[39m, X, y\u001b[38;5;241m=\u001b[39m\u001b[38;5;28;01mNone\u001b[39;00m):\n\u001b[1;32m    439\u001b[0m \u001b[38;5;250m    \u001b[39m\u001b[38;5;124;03m\"\"\"Fit the model with X and apply the dimensionality reduction on X.\u001b[39;00m\n\u001b[1;32m    440\u001b[0m \n\u001b[1;32m    441\u001b[0m \u001b[38;5;124;03m    Parameters\u001b[39;00m\n\u001b[0;32m   (...)\u001b[0m\n\u001b[1;32m    458\u001b[0m \u001b[38;5;124;03m    C-ordered array, use 'np.ascontiguousarray'.\u001b[39;00m\n\u001b[1;32m    459\u001b[0m \u001b[38;5;124;03m    \"\"\"\u001b[39;00m\n\u001b[0;32m--> 460\u001b[0m     U, S, Vt \u001b[38;5;241m=\u001b[39m \u001b[38;5;28mself\u001b[39m\u001b[38;5;241m.\u001b[39m_fit(X)\n\u001b[1;32m    461\u001b[0m     U \u001b[38;5;241m=\u001b[39m U[:, : \u001b[38;5;28mself\u001b[39m\u001b[38;5;241m.\u001b[39mn_components_]\n\u001b[1;32m    463\u001b[0m     \u001b[38;5;28;01mif\u001b[39;00m \u001b[38;5;28mself\u001b[39m\u001b[38;5;241m.\u001b[39mwhiten:\n\u001b[1;32m    464\u001b[0m         \u001b[38;5;66;03m# X_new = X * V / S * sqrt(n_samples) = U * sqrt(n_samples)\u001b[39;00m\n",
      "File \u001b[0;32m~/anaconda3/lib/python3.11/site-packages/sklearn/decomposition/_pca.py:512\u001b[0m, in \u001b[0;36mPCA._fit\u001b[0;34m(self, X)\u001b[0m\n\u001b[1;32m    510\u001b[0m     \u001b[38;5;28;01mreturn\u001b[39;00m \u001b[38;5;28mself\u001b[39m\u001b[38;5;241m.\u001b[39m_fit_full(X, n_components)\n\u001b[1;32m    511\u001b[0m \u001b[38;5;28;01melif\u001b[39;00m \u001b[38;5;28mself\u001b[39m\u001b[38;5;241m.\u001b[39m_fit_svd_solver \u001b[38;5;129;01min\u001b[39;00m [\u001b[38;5;124m\"\u001b[39m\u001b[38;5;124marpack\u001b[39m\u001b[38;5;124m\"\u001b[39m, \u001b[38;5;124m\"\u001b[39m\u001b[38;5;124mrandomized\u001b[39m\u001b[38;5;124m\"\u001b[39m]:\n\u001b[0;32m--> 512\u001b[0m     \u001b[38;5;28;01mreturn\u001b[39;00m \u001b[38;5;28mself\u001b[39m\u001b[38;5;241m.\u001b[39m_fit_truncated(X, n_components, \u001b[38;5;28mself\u001b[39m\u001b[38;5;241m.\u001b[39m_fit_svd_solver)\n",
      "File \u001b[0;32m~/anaconda3/lib/python3.11/site-packages/sklearn/decomposition/_pca.py:607\u001b[0m, in \u001b[0;36mPCA._fit_truncated\u001b[0;34m(self, X, n_components, svd_solver)\u001b[0m\n\u001b[1;32m    605\u001b[0m \u001b[38;5;28;01mif\u001b[39;00m svd_solver \u001b[38;5;241m==\u001b[39m \u001b[38;5;124m\"\u001b[39m\u001b[38;5;124marpack\u001b[39m\u001b[38;5;124m\"\u001b[39m:\n\u001b[1;32m    606\u001b[0m     v0 \u001b[38;5;241m=\u001b[39m _init_arpack_v0(\u001b[38;5;28mmin\u001b[39m(X\u001b[38;5;241m.\u001b[39mshape), random_state)\n\u001b[0;32m--> 607\u001b[0m     U, S, Vt \u001b[38;5;241m=\u001b[39m svds(X, k\u001b[38;5;241m=\u001b[39mn_components, tol\u001b[38;5;241m=\u001b[39m\u001b[38;5;28mself\u001b[39m\u001b[38;5;241m.\u001b[39mtol, v0\u001b[38;5;241m=\u001b[39mv0)\n\u001b[1;32m    608\u001b[0m     \u001b[38;5;66;03m# svds doesn't abide by scipy.linalg.svd/randomized_svd\u001b[39;00m\n\u001b[1;32m    609\u001b[0m     \u001b[38;5;66;03m# conventions, so reverse its outputs.\u001b[39;00m\n\u001b[1;32m    610\u001b[0m     S \u001b[38;5;241m=\u001b[39m S[::\u001b[38;5;241m-\u001b[39m\u001b[38;5;241m1\u001b[39m]\n",
      "File \u001b[0;32m~/anaconda3/lib/python3.11/site-packages/scipy/sparse/linalg/_eigen/_svds.py:525\u001b[0m, in \u001b[0;36msvds\u001b[0;34m(A, k, ncv, tol, which, v0, maxiter, return_singular_vectors, solver, random_state, options)\u001b[0m\n\u001b[1;32m    523\u001b[0m \u001b[38;5;28;01mif\u001b[39;00m v0 \u001b[38;5;129;01mis\u001b[39;00m \u001b[38;5;28;01mNone\u001b[39;00m:\n\u001b[1;32m    524\u001b[0m     v0 \u001b[38;5;241m=\u001b[39m random_state\u001b[38;5;241m.\u001b[39mstandard_normal(size\u001b[38;5;241m=\u001b[39m(\u001b[38;5;28mmin\u001b[39m(A\u001b[38;5;241m.\u001b[39mshape),))\n\u001b[0;32m--> 525\u001b[0m _, eigvec \u001b[38;5;241m=\u001b[39m eigsh(XH_X, k\u001b[38;5;241m=\u001b[39mk, tol\u001b[38;5;241m=\u001b[39mtol \u001b[38;5;241m*\u001b[39m\u001b[38;5;241m*\u001b[39m \u001b[38;5;241m2\u001b[39m, maxiter\u001b[38;5;241m=\u001b[39mmaxiter,\n\u001b[1;32m    526\u001b[0m                   ncv\u001b[38;5;241m=\u001b[39mncv, which\u001b[38;5;241m=\u001b[39mwhich, v0\u001b[38;5;241m=\u001b[39mv0)\n\u001b[1;32m    527\u001b[0m \u001b[38;5;66;03m# arpack do not guarantee exactly orthonormal eigenvectors\u001b[39;00m\n\u001b[1;32m    528\u001b[0m \u001b[38;5;66;03m# for clustered eigenvalues, especially in complex arithmetic\u001b[39;00m\n\u001b[1;32m    529\u001b[0m eigvec, _ \u001b[38;5;241m=\u001b[39m np\u001b[38;5;241m.\u001b[39mlinalg\u001b[38;5;241m.\u001b[39mqr(eigvec)\n",
      "File \u001b[0;32m~/anaconda3/lib/python3.11/site-packages/scipy/sparse/linalg/_eigen/arpack/arpack.py:1697\u001b[0m, in \u001b[0;36meigsh\u001b[0;34m(A, k, M, sigma, which, v0, ncv, maxiter, tol, return_eigenvectors, Minv, OPinv, mode)\u001b[0m\n\u001b[1;32m   1695\u001b[0m \u001b[38;5;28;01mwith\u001b[39;00m _ARPACK_LOCK:\n\u001b[1;32m   1696\u001b[0m     \u001b[38;5;28;01mwhile\u001b[39;00m \u001b[38;5;129;01mnot\u001b[39;00m params\u001b[38;5;241m.\u001b[39mconverged:\n\u001b[0;32m-> 1697\u001b[0m         params\u001b[38;5;241m.\u001b[39miterate()\n\u001b[1;32m   1699\u001b[0m     \u001b[38;5;28;01mreturn\u001b[39;00m params\u001b[38;5;241m.\u001b[39mextract(return_eigenvectors)\n",
      "File \u001b[0;32m~/anaconda3/lib/python3.11/site-packages/scipy/sparse/linalg/_eigen/arpack/arpack.py:549\u001b[0m, in \u001b[0;36m_SymmetricArpackParams.iterate\u001b[0;34m(self)\u001b[0m\n\u001b[1;32m    546\u001b[0m \u001b[38;5;28;01melif\u001b[39;00m \u001b[38;5;28mself\u001b[39m\u001b[38;5;241m.\u001b[39mido \u001b[38;5;241m==\u001b[39m \u001b[38;5;241m1\u001b[39m:\n\u001b[1;32m    547\u001b[0m     \u001b[38;5;66;03m# compute y = Op*x\u001b[39;00m\n\u001b[1;32m    548\u001b[0m     \u001b[38;5;28;01mif\u001b[39;00m \u001b[38;5;28mself\u001b[39m\u001b[38;5;241m.\u001b[39mmode \u001b[38;5;241m==\u001b[39m \u001b[38;5;241m1\u001b[39m:\n\u001b[0;32m--> 549\u001b[0m         \u001b[38;5;28mself\u001b[39m\u001b[38;5;241m.\u001b[39mworkd[yslice] \u001b[38;5;241m=\u001b[39m \u001b[38;5;28mself\u001b[39m\u001b[38;5;241m.\u001b[39mOP(\u001b[38;5;28mself\u001b[39m\u001b[38;5;241m.\u001b[39mworkd[xslice])\n\u001b[1;32m    550\u001b[0m     \u001b[38;5;28;01melif\u001b[39;00m \u001b[38;5;28mself\u001b[39m\u001b[38;5;241m.\u001b[39mmode \u001b[38;5;241m==\u001b[39m \u001b[38;5;241m2\u001b[39m:\n\u001b[1;32m    551\u001b[0m         \u001b[38;5;28mself\u001b[39m\u001b[38;5;241m.\u001b[39mworkd[xslice] \u001b[38;5;241m=\u001b[39m \u001b[38;5;28mself\u001b[39m\u001b[38;5;241m.\u001b[39mOPb(\u001b[38;5;28mself\u001b[39m\u001b[38;5;241m.\u001b[39mworkd[xslice])\n",
      "File \u001b[0;32m~/anaconda3/lib/python3.11/site-packages/scipy/sparse/linalg/_interface.py:234\u001b[0m, in \u001b[0;36mLinearOperator.matvec\u001b[0;34m(self, x)\u001b[0m\n\u001b[1;32m    231\u001b[0m \u001b[38;5;28;01mif\u001b[39;00m x\u001b[38;5;241m.\u001b[39mshape \u001b[38;5;241m!=\u001b[39m (N,) \u001b[38;5;129;01mand\u001b[39;00m x\u001b[38;5;241m.\u001b[39mshape \u001b[38;5;241m!=\u001b[39m (N,\u001b[38;5;241m1\u001b[39m):\n\u001b[1;32m    232\u001b[0m     \u001b[38;5;28;01mraise\u001b[39;00m \u001b[38;5;167;01mValueError\u001b[39;00m(\u001b[38;5;124m'\u001b[39m\u001b[38;5;124mdimension mismatch\u001b[39m\u001b[38;5;124m'\u001b[39m)\n\u001b[0;32m--> 234\u001b[0m y \u001b[38;5;241m=\u001b[39m \u001b[38;5;28mself\u001b[39m\u001b[38;5;241m.\u001b[39m_matvec(x)\n\u001b[1;32m    236\u001b[0m \u001b[38;5;28;01mif\u001b[39;00m \u001b[38;5;28misinstance\u001b[39m(x, np\u001b[38;5;241m.\u001b[39mmatrix):\n\u001b[1;32m    237\u001b[0m     y \u001b[38;5;241m=\u001b[39m asmatrix(y)\n",
      "File \u001b[0;32m~/anaconda3/lib/python3.11/site-packages/scipy/sparse/linalg/_interface.py:591\u001b[0m, in \u001b[0;36m_CustomLinearOperator._matvec\u001b[0;34m(self, x)\u001b[0m\n\u001b[1;32m    590\u001b[0m \u001b[38;5;28;01mdef\u001b[39;00m \u001b[38;5;21m_matvec\u001b[39m(\u001b[38;5;28mself\u001b[39m, x):\n\u001b[0;32m--> 591\u001b[0m     \u001b[38;5;28;01mreturn\u001b[39;00m \u001b[38;5;28mself\u001b[39m\u001b[38;5;241m.\u001b[39m__matvec_impl(x)\n",
      "File \u001b[0;32m~/anaconda3/lib/python3.11/site-packages/scipy/sparse/linalg/_eigen/_svds.py:469\u001b[0m, in \u001b[0;36msvds.<locals>.matvec_XH_X\u001b[0;34m(x)\u001b[0m\n\u001b[1;32m    468\u001b[0m \u001b[38;5;28;01mdef\u001b[39;00m \u001b[38;5;21mmatvec_XH_X\u001b[39m(x):\n\u001b[0;32m--> 469\u001b[0m     \u001b[38;5;28;01mreturn\u001b[39;00m XH_dot(X_dot(x))\n",
      "File \u001b[0;32m~/anaconda3/lib/python3.11/site-packages/scipy/sparse/linalg/_interface.py:281\u001b[0m, in \u001b[0;36mLinearOperator.rmatvec\u001b[0;34m(self, x)\u001b[0m\n\u001b[1;32m    278\u001b[0m \u001b[38;5;28;01mif\u001b[39;00m x\u001b[38;5;241m.\u001b[39mshape \u001b[38;5;241m!=\u001b[39m (M,) \u001b[38;5;129;01mand\u001b[39;00m x\u001b[38;5;241m.\u001b[39mshape \u001b[38;5;241m!=\u001b[39m (M,\u001b[38;5;241m1\u001b[39m):\n\u001b[1;32m    279\u001b[0m     \u001b[38;5;28;01mraise\u001b[39;00m \u001b[38;5;167;01mValueError\u001b[39;00m(\u001b[38;5;124m'\u001b[39m\u001b[38;5;124mdimension mismatch\u001b[39m\u001b[38;5;124m'\u001b[39m)\n\u001b[0;32m--> 281\u001b[0m y \u001b[38;5;241m=\u001b[39m \u001b[38;5;28mself\u001b[39m\u001b[38;5;241m.\u001b[39m_rmatvec(x)\n\u001b[1;32m    283\u001b[0m \u001b[38;5;28;01mif\u001b[39;00m \u001b[38;5;28misinstance\u001b[39m(x, np\u001b[38;5;241m.\u001b[39mmatrix):\n\u001b[1;32m    284\u001b[0m     y \u001b[38;5;241m=\u001b[39m asmatrix(y)\n",
      "File \u001b[0;32m~/anaconda3/lib/python3.11/site-packages/scipy/sparse/linalg/_interface.py:303\u001b[0m, in \u001b[0;36mLinearOperator._rmatvec\u001b[0;34m(self, x)\u001b[0m\n\u001b[1;32m    301\u001b[0m     \u001b[38;5;28;01mraise\u001b[39;00m \u001b[38;5;167;01mNotImplementedError\u001b[39;00m\n\u001b[1;32m    302\u001b[0m \u001b[38;5;28;01melse\u001b[39;00m:\n\u001b[0;32m--> 303\u001b[0m     \u001b[38;5;28;01mreturn\u001b[39;00m \u001b[38;5;28mself\u001b[39m\u001b[38;5;241m.\u001b[39mH\u001b[38;5;241m.\u001b[39mmatvec(x)\n",
      "File \u001b[0;32m~/anaconda3/lib/python3.11/site-packages/scipy/sparse/linalg/_interface.py:234\u001b[0m, in \u001b[0;36mLinearOperator.matvec\u001b[0;34m(self, x)\u001b[0m\n\u001b[1;32m    231\u001b[0m \u001b[38;5;28;01mif\u001b[39;00m x\u001b[38;5;241m.\u001b[39mshape \u001b[38;5;241m!=\u001b[39m (N,) \u001b[38;5;129;01mand\u001b[39;00m x\u001b[38;5;241m.\u001b[39mshape \u001b[38;5;241m!=\u001b[39m (N,\u001b[38;5;241m1\u001b[39m):\n\u001b[1;32m    232\u001b[0m     \u001b[38;5;28;01mraise\u001b[39;00m \u001b[38;5;167;01mValueError\u001b[39;00m(\u001b[38;5;124m'\u001b[39m\u001b[38;5;124mdimension mismatch\u001b[39m\u001b[38;5;124m'\u001b[39m)\n\u001b[0;32m--> 234\u001b[0m y \u001b[38;5;241m=\u001b[39m \u001b[38;5;28mself\u001b[39m\u001b[38;5;241m.\u001b[39m_matvec(x)\n\u001b[1;32m    236\u001b[0m \u001b[38;5;28;01mif\u001b[39;00m \u001b[38;5;28misinstance\u001b[39m(x, np\u001b[38;5;241m.\u001b[39mmatrix):\n\u001b[1;32m    237\u001b[0m     y \u001b[38;5;241m=\u001b[39m asmatrix(y)\n",
      "File \u001b[0;32m~/anaconda3/lib/python3.11/site-packages/scipy/sparse/linalg/_interface.py:201\u001b[0m, in \u001b[0;36mLinearOperator._matvec\u001b[0;34m(self, x)\u001b[0m\n\u001b[1;32m    191\u001b[0m \u001b[38;5;28;01mdef\u001b[39;00m \u001b[38;5;21m_matvec\u001b[39m(\u001b[38;5;28mself\u001b[39m, x):\n\u001b[1;32m    192\u001b[0m \u001b[38;5;250m    \u001b[39m\u001b[38;5;124;03m\"\"\"Default matrix-vector multiplication handler.\u001b[39;00m\n\u001b[1;32m    193\u001b[0m \n\u001b[1;32m    194\u001b[0m \u001b[38;5;124;03m    If self is a linear operator of shape (M, N), then this method will\u001b[39;00m\n\u001b[0;32m   (...)\u001b[0m\n\u001b[1;32m    199\u001b[0m \u001b[38;5;124;03m    will define matrix-vector multiplication as well.\u001b[39;00m\n\u001b[1;32m    200\u001b[0m \u001b[38;5;124;03m    \"\"\"\u001b[39;00m\n\u001b[0;32m--> 201\u001b[0m     \u001b[38;5;28;01mreturn\u001b[39;00m \u001b[38;5;28mself\u001b[39m\u001b[38;5;241m.\u001b[39mmatmat(x\u001b[38;5;241m.\u001b[39mreshape(\u001b[38;5;241m-\u001b[39m\u001b[38;5;241m1\u001b[39m, \u001b[38;5;241m1\u001b[39m))\n",
      "File \u001b[0;32m~/anaconda3/lib/python3.11/site-packages/scipy/sparse/linalg/_interface.py:338\u001b[0m, in \u001b[0;36mLinearOperator.matmat\u001b[0;34m(self, X)\u001b[0m\n\u001b[1;32m    335\u001b[0m     \u001b[38;5;28;01mraise\u001b[39;00m \u001b[38;5;167;01mValueError\u001b[39;00m(\u001b[38;5;124mf\u001b[39m\u001b[38;5;124m'\u001b[39m\u001b[38;5;124mdimension mismatch: \u001b[39m\u001b[38;5;132;01m{\u001b[39;00m\u001b[38;5;28mself\u001b[39m\u001b[38;5;241m.\u001b[39mshape\u001b[38;5;132;01m}\u001b[39;00m\u001b[38;5;124m, \u001b[39m\u001b[38;5;132;01m{\u001b[39;00mX\u001b[38;5;241m.\u001b[39mshape\u001b[38;5;132;01m}\u001b[39;00m\u001b[38;5;124m'\u001b[39m)\n\u001b[1;32m    337\u001b[0m \u001b[38;5;28;01mtry\u001b[39;00m:\n\u001b[0;32m--> 338\u001b[0m     Y \u001b[38;5;241m=\u001b[39m \u001b[38;5;28mself\u001b[39m\u001b[38;5;241m.\u001b[39m_matmat(X)\n\u001b[1;32m    339\u001b[0m \u001b[38;5;28;01mexcept\u001b[39;00m \u001b[38;5;167;01mException\u001b[39;00m \u001b[38;5;28;01mas\u001b[39;00m e:\n\u001b[1;32m    340\u001b[0m     \u001b[38;5;28;01mif\u001b[39;00m issparse(X) \u001b[38;5;129;01mor\u001b[39;00m is_pydata_spmatrix(X):\n",
      "File \u001b[0;32m~/anaconda3/lib/python3.11/site-packages/scipy/sparse/linalg/_interface.py:798\u001b[0m, in \u001b[0;36mMatrixLinearOperator._matmat\u001b[0;34m(self, X)\u001b[0m\n\u001b[1;32m    797\u001b[0m \u001b[38;5;28;01mdef\u001b[39;00m \u001b[38;5;21m_matmat\u001b[39m(\u001b[38;5;28mself\u001b[39m, X):\n\u001b[0;32m--> 798\u001b[0m     \u001b[38;5;28;01mreturn\u001b[39;00m \u001b[38;5;28mself\u001b[39m\u001b[38;5;241m.\u001b[39mA\u001b[38;5;241m.\u001b[39mdot(X)\n",
      "\u001b[0;31mKeyboardInterrupt\u001b[0m: "
     ]
    }
   ],
   "source": [
    "# Perform clustering to identify cell populations\n",
    "sc.pp.pca(adata_stroke1, n_comps=50) # pca to reduce the dimensionality\n",
    "# sc.pp.neighbors(adata_stroke1)\n",
    "sc.pp.neighbors(adata_stroke1, method='umap') # construct kNN graph via UMAP method\n",
    "# sc.tl.leiden(adata_stroke1)\n",
    "sc.tl.leiden(adata_stroke1, flavor='igraph', n_iterations=2) # apply Leiden alg for clustering\n",
    "\n",
    "sc.pp.pca(adata_sham1, n_comps=50)\n",
    "# sc.pp.neighbors(adata_sham1)\n",
    "sc.pp.neighbors(adata_sham1, method='umap')\n",
    "# sc.tl.leiden(adata_sham1)\n",
    "sc.tl.leiden(adata_sham1, flavor='igraph', n_iterations=2)"
   ]
  },
  {
   "cell_type": "code",
   "execution_count": null,
   "id": "6c763cbd-5ea7-485f-806b-07d4224caf58",
   "metadata": {},
   "outputs": [],
   "source": [
    "# Visualize cell-type compositions\n",
    "sc.tl.umap(adata_stroke1)  # Compute UMAP embeddings\n",
    "sc.tl.umap(adata_sham1)\n",
    "\n",
    "sc.pl.umap(adata_stroke1, color='leiden')\n",
    "sc.pl.umap(adata_sham1, color='leiden')"
   ]
  },
  {
   "cell_type": "markdown",
   "id": "31e246f2-0820-45e5-8369-4abc535711d5",
   "metadata": {},
   "source": [
    "## Gene Expression Comparison"
   ]
  },
  {
   "cell_type": "code",
   "execution_count": null,
   "id": "1e5159a3-5b90-46e3-a993-b03e52187d38",
   "metadata": {},
   "outputs": [],
   "source": [
    "# Filter out low-expression genes\n",
    "sc.pp.filter_genes(adata_stroke1, min_counts=1) \n",
    "sc.pp.filter_genes(adata_sham1, min_counts=1) \n",
    "\n",
    "# Perform log transformation\n",
    "sc.pp.log1p(adata_stroke1)\n",
    "sc.pp.log1p(adata_sham1)\n",
    "\n",
    "# Optimize DataFrame construction: join all the columns at once instead of one by one\n",
    "# pd.concat([adata_stroke1.stats[group_name, \"names\"], adata_stroke1.var_names[global_indices]], axis=1)\n",
    "# pd.concat([adata_sham1.stats[group_name, \"names\"], adata_sham1.var_names[global_indices]], axis=1)"
   ]
  },
  {
   "cell_type": "code",
   "execution_count": null,
   "id": "f0500b4f-bd53-4746-9ffe-5f8e85c604c2",
   "metadata": {},
   "outputs": [],
   "source": [
    "# Differential gene expression analysis\n",
    "sc.tl.rank_genes_groups(adata_stroke1, 'leiden')\n",
    "sc.tl.rank_genes_groups(adata_sham1, 'leiden')"
   ]
  },
  {
   "cell_type": "code",
   "execution_count": null,
   "id": "15a2ea6c-cde7-46b0-a7ea-4c91dda40337",
   "metadata": {},
   "outputs": [],
   "source": [
    "# Visualize differentially expressed genes\n",
    "sc.pl.rank_genes_groups(adata_stroke1)\n",
    "sc.pl.rank_genes_groups(adata_sham1)"
   ]
  },
  {
   "cell_type": "code",
   "execution_count": null,
   "id": "e9a1b60a-a766-4b45-8926-f5cb84c2d347",
   "metadata": {},
   "outputs": [],
   "source": []
  }
 ],
 "metadata": {
  "kernelspec": {
   "display_name": "Python 3 (ipykernel)",
   "language": "python",
   "name": "python3"
  },
  "language_info": {
   "codemirror_mode": {
    "name": "ipython",
    "version": 3
   },
   "file_extension": ".py",
   "mimetype": "text/x-python",
   "name": "python",
   "nbconvert_exporter": "python",
   "pygments_lexer": "ipython3",
   "version": "3.11.5"
  }
 },
 "nbformat": 4,
 "nbformat_minor": 5
}
